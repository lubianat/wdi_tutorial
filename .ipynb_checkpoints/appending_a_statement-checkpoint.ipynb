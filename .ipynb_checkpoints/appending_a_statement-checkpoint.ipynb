{
 "cells": [
  {
   "cell_type": "markdown",
   "metadata": {},
   "source": [
    "# Appending values to statement with Wikidata Integrator\n",
    "\n",
    "\n",
    "So, let's say you want to use Wikidata Integrator in a bot to update Wikidata items. \n",
    "\n",
    "Nice. \n",
    "\n",
    "If that update includes adding new values for a statement leaving the previous statements there, this might prove to be a bit tricky. \n",
    "\n",
    "\n",
    "The method of the Wikidata Integrator class that writes to Wikidata (wd_item.write()) substitutes whatever value you had before by the new ones. \n",
    "\n",
    "\n",
    "That means you need to pull this information before updating the item. But luckly, that is not hard. Let's see how to do it:\n"
   ]
  },
  {
   "cell_type": "code",
   "execution_count": 1,
   "metadata": {},
   "outputs": [],
   "source": [
    "from wikidataintegrator import wdi_core, wdi_login\n",
    "import credentials as credentials"
   ]
  },
  {
   "cell_type": "markdown",
   "metadata": {},
   "source": [
    "The first things that I just did were to import functions from wikidataintegrator and the credentials, which are just my Wikidata user and password.\n",
    "\n",
    "You can add those in a separate file (or on environment variables) and keeping them off your version control (e.g. Git) system."
   ]
  },
  {
   "cell_type": "markdown",
   "metadata": {},
   "source": [
    "## Confirmed COVID-19 cases in Bhutan\n",
    "\n",
    "In this example, we will add case count information for the item about the COVID-19 pandemic in Bhutan. \n",
    "\n",
    "The data was collected on June 23rd, so first I will craft a  date of ocurrence qualifier with wdi:\n",
    "\n"
   ]
  },
  {
   "cell_type": "code",
   "execution_count": 5,
   "metadata": {},
   "outputs": [],
   "source": [
    "from datetime import datetime \n",
    "\n",
    "# prepare variables\n",
    "date_string = \"2020-06-23\"\n",
    "date = datetime.strptime(date_string, '%Y-%m-%d')\n",
    "date_string_in_wikidata_format = date.strftime(\"+%Y-%m-%dT00:00:00Z\")\n",
    "\n",
    "# craft qualifier\n",
    "qualifier_date_of_ocurrence = wdi_core.WDTime(date_string_in_wikidata_format,\n",
    "                                                  prop_nr=\"P585\", is_qualifier=True)\n",
    "\n",
    "# put it into a list, which is the format wdi likes them\n",
    "qualifier_list = [qualifier_date_of_ocurrence]"
   ]
  },
  {
   "cell_type": "markdown",
   "metadata": {},
   "source": [
    "Up to that date, we had 63 confirmed cases in Bhutan. The source / reference is https://datahub.io/core/covid-19, but we will skip this for simplicity sake. \n",
    "\n",
    "Please add reference statements on your actual bots!\n",
    "\n",
    "Anyways, let's craft that statement too, with the qualifier above:\n"
   ]
  },
  {
   "cell_type": "code",
   "execution_count": 6,
   "metadata": {},
   "outputs": [],
   "source": [
    "confirmed_cases = 63\n",
    "confirmed_cases_statement = wdi_core.WDQuantity(value=confirmed_cases, prop_nr='P1603', qualifiers=qualifier_list)\n"
   ]
  },
  {
   "cell_type": "markdown",
   "metadata": {},
   "source": [
    "Normally, one would just write this to Wikidata and boom, done!\n",
    "\n",
    "But we will have to pull the information already at the item before. We don't want to erase it, after all.\n",
    "\n",
    "\n",
    "[Q87715166](https://www.wikidata.org/wiki/Q87715166) is the Qid for COVID19 in Bhutan.\n",
    "\n"
   ]
  },
  {
   "cell_type": "code",
   "execution_count": 8,
   "metadata": {},
   "outputs": [],
   "source": [
    "\n",
    "covid19_in_bhutan_item = wdi_core.WDItemEngine(wd_item_id='Q87715166')\n",
    "\n"
   ]
  },
  {
   "cell_type": "markdown",
   "metadata": {},
   "source": [
    "Now the mission is to get all the values for the \"P1603\" property in a wdi compatible format. "
   ]
  },
  {
   "cell_type": "code",
   "execution_count": null,
   "metadata": {},
   "outputs": [],
   "source": []
  }
 ],
 "metadata": {
  "kernelspec": {
   "display_name": "Python 3",
   "language": "python",
   "name": "python3"
  },
  "language_info": {
   "codemirror_mode": {
    "name": "ipython",
    "version": 3
   },
   "file_extension": ".py",
   "mimetype": "text/x-python",
   "name": "python",
   "nbconvert_exporter": "python",
   "pygments_lexer": "ipython3",
   "version": "3.6.9"
  }
 },
 "nbformat": 4,
 "nbformat_minor": 4
}
